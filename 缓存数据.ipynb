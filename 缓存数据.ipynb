{
 "cells": [
  {
   "cell_type": "code",
   "execution_count": null,
   "id": "77c7e57f-0d3d-4542-bc41-d8dc4d14d4f7",
   "metadata": {},
   "outputs": [],
   "source": [
    "import akshare as ak\n",
    "import pickle\n",
    "from datetime import datetime\n",
    "\n",
    "cache = {}\n",
    "\n",
    "for i, meta in ak.index_stock_info().iterrows():\n",
    "    try:\n",
    "        df = ak.index_zh_a_hist(symbol=meta.index_code, period=\"daily\")\n",
    "        df.columns = ['Date', 'Open', 'Close', 'High', 'Low', 'Volume', 'Amount', 'Amplitude', 'Delta', 'AmountDelta', 'Turnover']\n",
    "        df = df.set_index(\"Date\")\n",
    "        cache[meta.index_code] = df\n",
    "        print(f\"cache {i} {meta.index_code} {meta.display_name}\")\n",
    "    except Exception as e:\n",
    "        print(f\"ERROR: {i} {meta.index_code} {meta.display_name}\")\n",
    "\n",
    "save_file = f\"cache-{datetime.now().strftime('%Y-%m-%d')}.pk\"\n",
    "print(f\"Saving to {save_file}...\")\n",
    "with open(save_file, \"wb\") as fout:\n",
    "    pickle.dump(cache, fout)"
   ]
  },
  {
   "cell_type": "code",
   "execution_count": null,
   "id": "fef2d722-1ad2-4715-a711-aab8f5478410",
   "metadata": {},
   "outputs": [],
   "source": []
  },
  {
   "cell_type": "code",
   "execution_count": null,
   "id": "d5f5e8a4-7668-4eee-b306-dd890b2fe61c",
   "metadata": {},
   "outputs": [],
   "source": []
  },
  {
   "cell_type": "code",
   "execution_count": null,
   "id": "88c60a73-2aee-4916-9f7f-421a072923e1",
   "metadata": {},
   "outputs": [],
   "source": []
  }
 ],
 "metadata": {
  "kernelspec": {
   "display_name": "Python 3 (ipykernel)",
   "language": "python",
   "name": "python3"
  },
  "language_info": {
   "codemirror_mode": {
    "name": "ipython",
    "version": 3
   },
   "file_extension": ".py",
   "mimetype": "text/x-python",
   "name": "python",
   "nbconvert_exporter": "python",
   "pygments_lexer": "ipython3",
   "version": "3.12.3"
  }
 },
 "nbformat": 4,
 "nbformat_minor": 5
}
